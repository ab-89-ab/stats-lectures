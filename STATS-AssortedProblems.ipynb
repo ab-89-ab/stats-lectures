{
 "cells": [
  {
   "cell_type": "markdown",
   "metadata": {},
   "source": [
    "## Binomial Distributions"
   ]
  },
  {
   "cell_type": "markdown",
   "metadata": {},
   "source": [
    "A teacher wants to find out whether the chance of spinning blue on a spinner with four colors is 25%. \n",
    "\n",
    "Blue and not blue"
   ]
  },
  {
   "cell_type": "markdown",
   "metadata": {},
   "source": [
    "“Vinita threw a coin 15 times and it came up heads 13 times. She thinks the the coin was biased in favour of\n",
    "heads. Test her Hypothesis at the 5% significance level.” https://www.mathshelper.co.uk/Hypothesis%20Testing.pdf"
   ]
  },
  {
   "cell_type": "code",
   "execution_count": null,
   "metadata": {},
   "outputs": [],
   "source": []
  },
  {
   "cell_type": "markdown",
   "metadata": {},
   "source": [
    "Exercise 2\n",
    "An agent sells life insurance policies to five equally aged, healthy people. According to recent data, the probability of a person living in these conditions for 30 years or more is 2/3. Calculate the probability that after 30 years:\n",
    "\n",
    "1.All five people are still living.\n",
    "\n",
    "2.At least three people are still living.\n",
    "\n",
    "3.Exactly two people are still living."
   ]
  },
  {
   "cell_type": "markdown",
   "metadata": {},
   "source": [
    "Solution of exercise 1\n",
    "A coin is tossed four times. Calculate the probability of obtaining more heads than tails.\n",
    "\n",
    "B(4, 0.5) p = 0.51 − p = 0.5\n",
    "\n",
    "\n",
    "\n",
    "Solution of exercise 2\n",
    "An agent sells life insurance policies to five equally aged, healthy people. According to recent data, the probability of a person living in these conditions for 30 years or more is 2/3. Calculate the probability that after 30 years:\n",
    "\n",
    "1.All five people are still living.\n",
    "\n",
    "B(5, 2/3) p = 2/3 1 − p = 1/3\n",
    "\n",
    "\n",
    "\n",
    "2.At least three people are still living.\n",
    "\n",
    "\n",
    "\n",
    "\n",
    "\n",
    "3.Exactly two people are still living.\n",
    "\n",
    "\n",
    "\n",
    "Solution of exercise 3\n",
    "If from six to seven in the evening one telephone line in every five is engaged in a conversation: what is the probability that when 10 telephone numbers are chosen at random, only two are in use?\n",
    "\n",
    "B(10, 1/5)p = 1/51 − p = 4/5\n",
    "\n",
    "\n",
    "\n",
    "Solution of exercise 4\n",
    "The probability of a man hitting the target at a shooting range is 1/4. If he shoots 10 times, what is the probability that he hits the target exactly three times? What is the probability that he hits the target at least once?\n",
    "\n",
    "B(10, 1/4) p = 1/41 − p = 3/4\n",
    "\n",
    "\n",
    "\n",
    "\n",
    "\n",
    "Solution of exercise 5\n",
    "There are 10 red and 20 blue balls in a box. A ball is chosen at random and it is noted whether it is red. The process repeats, returning the ball 10 times. Calculate the expected value and the standard deviation of this game.\n",
    "\n",
    "B(10, 1/3) p = 1/31 − p = 2/3\n",
    "\n",
    "\n",
    "\n",
    "\n",
    "\n",
    "Solution of exercise 6\n",
    "It has been determined that 5% of drivers checked at a road stop show traces of alcohol and 10% of drivers checked do not wear seat belts. In addition, it has been observed that the two infractions are independent from one another. If an officer stops five drivers at random:\n",
    "\n",
    "1.Calculate the probability that exactly three of the drivers have committed any one of the two offenses.\n",
    "\n",
    "\n",
    "\n",
    "\n",
    "\n",
    "\n",
    "\n",
    "2.Calculate the probability that at least one of the drivers checked has committed at least one of the two offenses.\n",
    "\n",
    "\n",
    "\n",
    "Solution of exercise 7\n",
    "A pharmaceutical lab states that a drug causes negative side effects in 3 of every 100 patients. To confirm this affirmation, another laboratory chooses 5 people at random who have consumed the drug. What is the probability of the following events?\n",
    "\n",
    "1.None of the five patients experience side effects.\n",
    "\n",
    "B(100, 0.03) p = 0.03 q = 0.97\n",
    "\n",
    "\n",
    "\n",
    "2.At least two experience side effects.\n",
    "\n",
    "\n",
    "\n",
    "\n",
    "\n",
    "3.What is the average number of patients that the laboratory should expect to experience side effects if they choose 100 patients at random?\n",
    "\n"
   ]
  },
  {
   "cell_type": "markdown",
   "metadata": {},
   "source": [
    "Hypothesis Testing for Binomial Distribution\n",
    "Example 1: Suppose you have a die and suspect that it is biased towards the number three, and so run an experiment in which you throw the die 10 times and count that the number three comes up 4 times. Determine whether the die is biased.\n",
    "\n",
    "Define x = the number of times the number three occurs in 10 trials. This random variable has the binomial distribution  where π is the population parameter corresponding to the probability of success on any trial. We use the following null and alternative hypotheses:\n",
    "\n",
    "H0: π ≤ 1/6; i.e. the die is not biased towards the number 3\n",
    "H1: π > 1/6\n",
    "\n",
    "Setting α = .05, we have\n",
    "\n",
    "P(x ≥ 4) = 1–BINOM.DIST(3, 10, 1/6, TRUE) =  0.069728 > 0.05 = α.\n",
    "\n",
    "and so we cannot reject the null hypothesis that the die is not biased towards the number 3 with 95% confidence.\n",
    "\n",
    "Example 2: We suspect that a coin is biased towards heads. When we toss the coin 9 times, how many heads need to come up before we are confident that the coin is biased towards heads?\n",
    "\n",
    "We use the following null and alternative hypotheses:\n",
    "\n",
    "H0: π ≤ .5\n",
    "H1: π > .5\n",
    "\n",
    "Using a confidence level of 95% (i.e. α = .05), we calculate\n",
    "\n",
    "BINOM.INV(n, p, 1–α) = BINOM.INV(9, .5, .95) = 7\n",
    "\n",
    "which means that if 8 or more heads come up then we are 95% confident that the coin is biased towards heads, and so can reject the null hypothesis.\n",
    "\n",
    "We confirm this conclusion by noting that P(x ≥ 8) = 1–BINOM.DIST(7, 9, .5, TRUE) =  0.01953 < 0.05 = α, while P(x ≥ 7) = 1–BINOM.DIST(6, 9, .5, TRUE) = .08984 > .05.\n",
    "\n",
    "Example 3: Historically a factory has been able to produce a very specialized nano-technology component with 35% reliability, i.e. 35% of the components passed its quality assurance requirements. They have now changed their manufacturing process and hope that this has improved the reliability. To test this, they took a sample of 24 components produced using the new process and found that 13 components passed the quality assurance test. Does this show a significant improvement over the old process?\n",
    "\n",
    "We use a one-tailed test with null and alternative hypotheses:\n",
    "\n",
    "H0: p ≤ .35\n",
    "H1: p > .35\n",
    "\n",
    "p-value = 1–BINOM.DIST(12, 24, .35, TRUE) = .04225 < .05 = α\n",
    "\n",
    "and so conclude with 95% confidence that the new process shows a significant improvement.\n",
    "\n"
   ]
  },
  {
   "cell_type": "markdown",
   "metadata": {},
   "source": [
    "## CLT"
   ]
  },
  {
   "cell_type": "markdown",
   "metadata": {},
   "source": [
    "Example problem: A sample of 200 people has a mean age of 21 with a population standard deviation (σ) of 5. Test the hypothesis that the population mean is 18.9 at α = 0.05."
   ]
  },
  {
   "cell_type": "code",
   "execution_count": null,
   "metadata": {},
   "outputs": [],
   "source": []
  },
  {
   "cell_type": "markdown",
   "metadata": {},
   "source": [
    "One Sample Hypothesis Testing Examples: #2\n",
    "\n",
    "\n",
    "A principal at a certain school claims that the students in his school are above average intelligence. A random sample of thirty students IQ scores have a mean score of 112. Is there sufficient evidence to support the principal’s claim? The mean population IQ is 100 with a standard deviation of 15.\n",
    "Step 1: State the Null hypothesis. The accepted fact is that the population mean is 100, so: H0: μ=100.\n",
    "\n",
    "Step 2: State the Alternate Hypothesis. The claim is that the students have above average IQ scores, so:\n",
    "H1: μ > 100.\n",
    "The fact that we are looking for scores “greater than” a certain point means that this is a one-tailed test.\n",
    "\n",
    "Step 3: Draw a picture to help you visualize the problem.\n",
    "\n",
    "\n",
    "hypothesis testing examples\n",
    "\n",
    "Step 4: State the alpha level. If you aren’t given an alpha level, use 5% (0.05).\n",
    "\n",
    "Step 5: Find the rejection region area (given by your alpha level above) from the z-table. An area of .05 is equal to a z-score of 1.645.\n",
    "\n",
    "Step 6: Find the test statistic using this formula:z score formula\n",
    "For this set of data: z= (112.5 – 100) / (15/√30) = 4.56.\n",
    "\n",
    "Step 6: If Step 6 is greater than Step 5, reject the null hypothesis. If it’s less than Step 5, you cannot reject the null hypothesis. In this case, it is greater (4.56 > 1.645), so you can reject the null.\n",
    "\n",
    "One Sample Hypothesis Testing Examples: #3\n",
    "\n",
    "Blood glucose levels for obese patients have a mean of 100 with a standard deviation of 15. A researcher thinks that a diet high in raw cornstarch will have a positive or negative effect on blood glucose levels. A sample of 30 patients who have tried the raw cornstarch diet have a mean glucose level of 140. Test the hypothesis that the raw cornstarch had an effect."
   ]
  },
  {
   "cell_type": "code",
   "execution_count": null,
   "metadata": {},
   "outputs": [],
   "source": []
  },
  {
   "cell_type": "markdown",
   "metadata": {},
   "source": [
    "Example 1: A company selling batteries claims that the average life for its batteries before a recharge is necessary is at least 100 hours. One of its clients wanted to verify this claim by testing 48 batteries as described in the Figure 1. Is the company’s claim correct?"
   ]
  },
  {
   "cell_type": "code",
   "execution_count": 1,
   "metadata": {},
   "outputs": [],
   "source": [
    "data = [137,73,99,113,96,135,111,83,74,68,137,107,72,115,138,82,76,100,98,131,73,133,92,98,84,113,115,111,101,114,70,63,124,132,134,140,116,119,101,65,113,64,98,128,97,132,75,133\n",
    "]"
   ]
  },
  {
   "cell_type": "markdown",
   "metadata": {},
   "source": [
    "Z test confidence intervals\n",
    "\n",
    "Figure 1 – One sample testing of the mean using ZTEST and CONFIDENCE\n",
    "\n",
    "We test the following null hypothesis:\n",
    "\n",
    "         H0: x̄ ≤ 100\n",
    "\n",
    "Since the sample size is sufficiently large (n = 48 ≥ 30), based on the Central Limit Theorem, the sampling distribution of the mean should be approximately normal with distribution N(x̄, \\sigma/\\!\\sqrt{n}). Since the population standard deviation is not known we use the sample standard deviation (23.96) as an estimate for σ, and so the standard error is\n",
    "\n",
    "image454\n",
    "\n",
    "Since the sample mean x̄ = 103.81, assuming the null hypothesis we can compute the p-value as follows:\n",
    "\n",
    "p-value = 1 – NORMDIST(103.81, 100, 3.46, TRUE) = .135 > .05 = α\n",
    "\n",
    "Since p-value > α, we cannot reject the null hypothesis, and so conclude there is not enough evidence to show that the company’s claim is false. Alternatively, we can arrive at the same result by using the ZTEST as follows:\n",
    "\n",
    "p-value = ZTEST(A3:F10, 100) = .135 > .05 = α\n",
    "\n",
    "Observation: If we had run a two-tail test, we could calculate CONFIDENCE(α, s, n) = CONFIDENCE(.05, 23.96, 48) = 6.78, and so the 95% confidence interval is (103.81 – 6.78, 103.81 + 6.78) = (97.03, 110.59). Since the hypothetical mean of 100 lies in this interval, we must retain the null hypothesis."
   ]
  },
  {
   "cell_type": "code",
   "execution_count": null,
   "metadata": {},
   "outputs": [],
   "source": []
  },
  {
   "cell_type": "code",
   "execution_count": null,
   "metadata": {},
   "outputs": [],
   "source": []
  },
  {
   "cell_type": "markdown",
   "metadata": {},
   "source": [
    "## Normal Distribution - Statistical Power and Sample Size"
   ]
  },
  {
   "cell_type": "markdown",
   "metadata": {},
   "source": [
    "Statistical Power and Sample Size\n",
    "As described in Null Hypothesis Testing, beta (β) is the acceptable level of type II error, i.e. the probability that the null hypothesis is not rejected even though it is false and power is 1 – β. We now show how to estimate the power of test.\n",
    "\n",
    "Example 1: Suppose bolts are being manufactured using a process so that it is known that the length of the bolts follows a normal distribution with standard deviation 12 mm. The manufacturer wants to check that the mean length of their bolts is 60 mm, and so takes a sample of 110 bolts and uses a one tail test with α = .05 (i.e. H0: µ ≤ 60). What is the probability of a type II error if the actual mean length is 62.5?\n",
    "\n",
    "Since n = 110 and σ = 12, the standard error = \\frac{\\sigma}{\\sqrt{n}} = \\frac{12}{\\sqrt{110}} = 1.144. Let x = the length of the bolt. The null hypothesis is rejected provided the sample mean is greater than the critical value of x, which is NORMINV(1 – α, μ, s.e.) = NORMINV(.95, 60, 1.144) = 61.88.\n",
    "\n",
    "Now suppose that the actual mean is 62.5. The situation is illustrated in Figure 8.8, where the curve on the left represents the normal curve being tested with mean μ0 = 60 and the normal curve on the right represents the real distribution with mean μ1 = 62.5.\n",
    "\n",
    "Since\n",
    "image5023\n",
    "\n",
    "We have β = NORMDIST(61.88,62.5,1.144,TRUE) = .295, and so power = 1 – β = .705.\n",
    "\n",
    "We can repeat this calculation for values of μ1 ≥ 62.5 to obtain the table and graph of the power values in Figure 2."
   ]
  },
  {
   "cell_type": "markdown",
   "metadata": {},
   "source": [
    "Example 2: For the data in Example 1, answer the following questions:\n",
    "\n",
    "What is the power of the test for detecting a standardized effect of size .2?\n",
    "What effect size (and mean) can be detected with power .80?\n",
    "What sample size is required to detect an effect of size .2 with power .80?\n",
    "\n",
    "a) As described in Standardized Effect Size, we use the following measure of effect size:\n",
    "\n",
    "image486\n",
    "\n",
    "Thus μ1 = 60 + (.2)(12) = 62.4. As in Example 1,\n",
    "\n",
    "image5023\n",
    "\n",
    "and so β = NORMDIST(61.88, 62.4, 1.1144, TRUE) = .325, and so power = 1 – β = .675.\n",
    "\n",
    "We summarize these calculations in the following worksheet:"
   ]
  },
  {
   "cell_type": "code",
   "execution_count": null,
   "metadata": {},
   "outputs": [],
   "source": []
  },
  {
   "cell_type": "code",
   "execution_count": null,
   "metadata": {},
   "outputs": [],
   "source": []
  },
  {
   "cell_type": "code",
   "execution_count": null,
   "metadata": {},
   "outputs": [],
   "source": [
    "USING FILE mpg.csv\n"
   ]
  },
  {
   "cell_type": "code",
   "execution_count": null,
   "metadata": {},
   "outputs": [],
   "source": []
  },
  {
   "cell_type": "code",
   "execution_count": null,
   "metadata": {},
   "outputs": [],
   "source": []
  },
  {
   "cell_type": "code",
   "execution_count": null,
   "metadata": {},
   "outputs": [],
   "source": []
  },
  {
   "cell_type": "code",
   "execution_count": null,
   "metadata": {},
   "outputs": [],
   "source": []
  }
 ],
 "metadata": {
  "kernelspec": {
   "display_name": "Python 3",
   "language": "python",
   "name": "python3"
  },
  "language_info": {
   "codemirror_mode": {
    "name": "ipython",
    "version": 3
   },
   "file_extension": ".py",
   "mimetype": "text/x-python",
   "name": "python",
   "nbconvert_exporter": "python",
   "pygments_lexer": "ipython3",
   "version": "3.7.7"
  }
 },
 "nbformat": 4,
 "nbformat_minor": 4
}
